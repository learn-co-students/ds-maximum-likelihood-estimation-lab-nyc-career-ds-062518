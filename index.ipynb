{
 "cells": [
  {
   "cell_type": "markdown",
   "metadata": {},
   "source": [
    "# Maximum Likelihood Estimation Lab\n",
    "\n",
    "## Problem Description\n",
    "\n",
    "In this lab, we'll explore _Maximum Likelihood Estimation_ and strategies for implementing it in python while making use of industry-standard tools such as the `scipy` library!\n",
    "\n",
    "## Objectives\n",
    "\n",
    "In this lab, we will:\n",
    "\n",
    "* Demonstrate a conceptual understanding of Maximum Likelihood Estimation, and what it is used for\n",
    "* Demonstrate understanding as to why we use Negative Log Likelihood instead of Likelihood for MLE in python\n",
    "* Write a general-purpose function for Maximum Likelihood Estimation by using industry-standard packages such as `scipy`\n",
    "\n",
    "\n",
    "Run the cell below to import everything we'll need for this lab. "
   ]
  },
  {
   "cell_type": "code",
   "execution_count": 7,
   "metadata": {},
   "outputs": [],
   "source": [
    "import pandas as pd\n",
    "import numpy as np\n",
    "import matplotlib.pyplot as plt\n",
    "from scipy.stats import norm\n",
    "from scipy.optimize import minimize\n",
    "import seaborn as sns"
   ]
  },
  {
   "cell_type": "markdown",
   "metadata": {},
   "source": [
    "### Probability vs. Likelihood\n",
    "\n",
    "Explain the difference between **_Probability_** and **_Likelihood_** below the line.  Use the two graphs below as aids for your explanation..    \n",
    "\n",
    "<center><h3>Probability</h3></center>\n",
    "<img src='probability.jpg' height=50% width=50%>\n",
    "<br>\n",
    "<br>\n",
    "<center><h3>Likelihood</h3></center>\n",
    "<img src='likelihood.jpg' height=50% width=50%>\n",
    "\n",
    "________________________________________________________________________________________________________________________________\n",
    "\n",
    "**Probability** is the amount of a distribution that falls between two different values in a distribution. When visualized, this amounts to the area under the curve between the two values of interest.\n",
    "\n",
    "**Likelihood** is the value for a fixed data point given a distribution (note that the distribution can change). When visualized, this amounts to the y-axis value for the data point given the distribution it is visualized against.\n",
    "\n",
    "### Generating Datasets From Different Distributions\n",
    "\n",
    "We're going to generate two different datasets to test our MLE function.  In the cell below:\n",
    "\n",
    "* Create a sample Gaussian Distribution using numpy with 10,000 values in it. \n",
    "* Use a distplot from seaborn to visualize the distribution of each. \n",
    "\n",
    "We'll start by setting some true values, and then using these to generate a distribution of samples. The goal of this lab will be to see if we can use MLE to successfully estimate these (hidden) true values by using MLE and looking at the data.  \n",
    "\n",
    "In the cell below:\n",
    "\n",
    "* Set `true_sigma` 3\n",
    "* Set `intercept` to 5\n",
    "* Set `slope` to 8\n",
    "* Generate an array of 50 evenly spaced x values between 0 and 50 using [`np.linspace()`](https://docs.scipy.org/doc/numpy-1.14.0/reference/generated/numpy.linspace.html)\n",
    "* Compute an array of y values using the values contained in x, along with `slope`, `intercept` and `true_sigma`.  \n",
    "* Plot the newly generated data with a scatterplot\n",
    "\n",
    "**_HINT:_** Remember the formula `y = mx + b`.  Also remember that the standard deviation accounts for random noise found in the dataset--if you don't add random noise, each y-value will line up perfectly with the equation of the line, making it too easy to discover the parameters for slope and intercept. "
   ]
  },
  {
   "cell_type": "code",
   "execution_count": 89,
   "metadata": {},
   "outputs": [
    {
     "data": {
      "image/png": "[encoded data removed]",
      "text/plain": [
       "<Figure size 432x288 with 1 Axes>"
      ]
     },
     "metadata": {},
     "output_type": "display_data"
    },
    {
     "name": "stderr",
     "output_type": "stream",
     "text": [
      "/Users/SamLiebman/anaconda3/lib/python3.6/site-packages/matplotlib/axes/_axes.py:6462: UserWarning: The 'normed' kwarg is deprecated, and has been replaced by the 'density' kwarg.\n",
      "  warnings.warn(\"The 'normed' kwarg is deprecated, and has been \"\n",
      "/Users/SamLiebman/anaconda3/lib/python3.6/site-packages/matplotlib/axes/_axes.py:6462: UserWarning: The 'normed' kwarg is deprecated, and has been replaced by the 'density' kwarg.\n",
      "  warnings.warn(\"The 'normed' kwarg is deprecated, and has been \"\n"
     ]
    },
    {
     "data": {
      "text/plain": [
       "<matplotlib.axes._subplots.AxesSubplot at 0x1a228d2cc0>"
      ]
     },
     "execution_count": 89,
     "metadata": {},
     "output_type": "execute_result"
    },
    {
     "data": {
      "image/png": "[encoded data removed]",
      "text/plain": [
       "<Figure size 432x288 with 1 Axes>"
      ]
     },
     "metadata": {},
     "output_type": "display_data"
    }
   ],
   "source": [
    "true_sigma = 3\n",
    "intercept = 5\n",
    "slope = 8\n",
    "x = np.linspace(0,50, num=50)\n",
    "\n",
    "y = intercept + slope*x + np.random.normal(0,true_sigma,50)\n",
    "\n",
    "plt.scatter(x, y)\n",
    "plt.show()\n",
    "\n",
    "sns.distplot(x)\n",
    "sns.distplot(y)"
   ]
  },
  {
   "cell_type": "markdown",
   "metadata": {},
   "source": [
    "### Log Likelihood vs. Negative Log Likelihood\n",
    "\n",
    "In your own words, answer the following questions:\n",
    "\n",
    "Why do we use the log of likelihood rather than just likelihood?  In terms of optimization operations, what is the relationship between log likelihood and negative log likelihood?\n",
    "\n",
    "Bonus question: Why do we typically use negative log likelihood in python instead of likelihood or log likelihood? (This question may take a little research)\n",
    "\n",
    "Write your answer to these questions below this line:\n",
    "________________________________________________________________________________________________________________________________\n",
    "**We use the log instead of the raw likelihood value to help us avoid integer overflow/underflow errors. Maximizing the Log Likelihood (LL) is the same as minimizing the Negative Log Likelihood(NLL).**\n",
    "\n",
    "**This is the reason we use negative log likelihood in python--optimization libraries provide a minimize function, but not a maximize function. Therefore, in order to use a minimizer, we must make use of NLL instead of LL.**\n",
    "\n",
    "### Negative Log Likelihood\n",
    "\n",
    "In the cell below, complete the following negative log likelihood function. This function should take in an array of theta parameters and return the negative log likelihood for those parameters.  This can be a bit tricky: follow the steps in the pseudocode below to do this successfully:\n",
    "\n",
    "1. Generate sample a y value called `mu` using our data (`x`), the intercept (first element in `theta`), and the slope (2nd element in `theta`)\n",
    "2. Get the `norm` of `mu` and the final element in `theta` (use the `norm` function we imported from `scipy.stats` above)\n",
    "3. For that norm, get the `sum` of the `logpdf` of `y`.  This is the log likelihood. \n",
    "4. Multiply the the log likelihood by negative 1 and return our `negative log likelihood`"
   ]
  },
  {
   "cell_type": "code",
   "execution_count": 90,
   "metadata": {},
   "outputs": [
    {
     "data": {
      "text/plain": [
       "1067750.486557083"
      ]
     },
     "execution_count": 90,
     "metadata": {},
     "output_type": "execute_result"
    }
   ],
   "source": [
    "def neg_log_likelihood(theta):\n",
    "    intercept, slope = theta[0], theta[1]\n",
    "    mu = x*slope + intercept\n",
    "    return -1*norm(mu,theta[2]).logpdf(y).sum()\n",
    "\n",
    "neg_log_likelihood([1,1,1])"
   ]
  },
  {
   "cell_type": "markdown",
   "metadata": {},
   "source": [
    "### MLE from Scratch With Scipy\n",
    "\n",
    "We're almost done.  Now that we have a function that gets us the negative log likelihood, we can use an optimizer from `scipy.optimize` to try different values until we find optimal ones to `minimize` the output of our `neg_log_likelihood` function.  \n",
    "\n",
    "In the cell below:\n",
    "\n",
    "1. Create an array called `starting_guesses`, and set it equal to `[1, 1, 1]`.  These are placeholder values that we will start with for our `theta` array.\n",
    "1. Set the `results` variable equal to a function call of `minimize()` call.  The minimize function should take in the `neg_log_likelihood` function we created above, our array of `starting guesses`, and should also set the `method` parameter equal to `Nelder-Mead` (this specifies a type of optimization that is more likely to converge than the default, for our purposes in this lab.)\n",
    "1. Inspect and interpret the `results` element."
   ]
  },
  {
   "cell_type": "code",
   "execution_count": 92,
   "metadata": {},
   "outputs": [
    {
     "data": {
      "text/plain": [
       " final_simplex: (array([[4.582259  , 8.01530342, 2.87440454],\n",
       "       [4.58217932, 8.01530522, 2.87439941],\n",
       "       [4.58220129, 8.01530515, 2.87438692],\n",
       "       [4.58224363, 8.01530213, 2.8744034 ]]), array([123.7392906 , 123.7392906 , 123.73929061, 123.73929061]))\n",
       "           fun: 123.73929060337944\n",
       "       message: 'Optimization terminated successfully.'\n",
       "          nfev: 244\n",
       "           nit: 137\n",
       "        status: 0\n",
       "       success: True\n",
       "             x: array([4.582259  , 8.01530342, 2.87440454])"
      ]
     },
     "execution_count": 92,
     "metadata": {},
     "output_type": "execute_result"
    }
   ],
   "source": [
    "starting_guesses = [1,1,1]\n",
    "results = minimize(neg_log_likelihood, starting_guesses,method='Nelder-Mead')\n",
    "results"
   ]
  },
  {
   "cell_type": "markdown",
   "metadata": {},
   "source": [
    "**_Examine and interpret the values in `results.x`.  What parameter does each value correspond to? How well did our MLE algorithm perform?_**\n",
    "\n",
    "Write your answers below this line:\n",
    "________________________________________________________________________________________________________________________________\n",
    "**The values in results.x correspond directly to the values in starting_guesses, which in turn correspond to values of the theta parameter used in our neg_log_likelihood function.**\n",
    "    - The first value is an estimate of our intercept, which is off a bit from the true value. \n",
    "    - The second value is the estimate of slope, which is very close to the true value. \n",
    "    - The third value is the estimate for sigma, our standard deviation. This is also very close to the true value.\n",
    "\n",
    "\n",
    "### Conclusion\n",
    "\n",
    "In this lab, we:\n",
    "\n",
    "* Demonstrated understanding of general purpose behind Maximum Likelihood Estimation\n",
    "* Calculated Negative Log Likelihood, and explored why MLE generally makes use of Negative Log Likelihood instead of Likelihood or Log Likelihood\n",
    "* Used an optimizer from `scipy` to compute our MLE, and interpreted the results.  "
   ]
  },
  {
   "cell_type": "code",
   "execution_count": null,
   "metadata": {},
   "outputs": [],
   "source": []
  }
 ],
 "metadata": {
  "kernelspec": {
   "display_name": "Python 3",
   "language": "python",
   "name": "python3"
  },
  "language_info": {
   "codemirror_mode": {
    "name": "ipython",
    "version": 3
   },
   "file_extension": ".py",
   "mimetype": "text/x-python",
   "name": "python",
   "nbconvert_exporter": "python",
   "pygments_lexer": "ipython3",
   "version": "3.6.5"
  }
 },
 "nbformat": 4,
 "nbformat_minor": 2
}
